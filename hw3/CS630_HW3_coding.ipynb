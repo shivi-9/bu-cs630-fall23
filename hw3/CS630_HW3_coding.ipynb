{
 "cells": [
  {
   "cell_type": "markdown",
   "metadata": {},
   "source": [
    "# Instructions\n",
    "\n",
    "- Please convert the notebook into pdf for final submission. If you have issue with directly downloading the file as pdf, you can use web browers's print >> save as pdf.\n",
    "- If you use languages other than Python, you have to submit your executable code together with a report that contains all the results needed."
   ]
  },
  {
   "cell_type": "markdown",
   "metadata": {
    "id": "4RJ9OsXtadKv"
   },
   "source": [
    "# Triangle counting\n",
    "\n",
    "A triangle is a graph structure with three-node all connecting to each other. Finding triangles in real world networks is important due to the homogenous meaning it carries. For example, in a facebook network where nodes represent users and edges represent \"friend\" relations, users connected by triangle structures are more likely to know each other in real life. However, counting triangles can be a computation-heavy task on large graphs, i.e., the best known deterministic algorithm has a complexity of $O(m^{3/2})$. In this homework, we will study a randomized approach that significantly accerlerate the computation, proposed in [1].\n",
    "\n",
    "[1]. Charalampos E. Tsourakakis, U. Kang, Gary L. Miller, and Christos Faloutsos. 2009. DOULION: counting triangles in massive graphs with a coin. In Proceedings of the 15th ACM SIGKDD international conference on Knowledge discovery and data mining (KDD '09). Association for Computing Machinery, New York, NY, USA, 837–846. https://doi.org/10.1145/1557019.1557111\n",
    "\n"
   ]
  },
  {
   "cell_type": "markdown",
   "metadata": {
    "id": "wvGSy2J_uRpF"
   },
   "source": [
    "## Preliminaries\n"
   ]
  },
  {
   "cell_type": "markdown",
   "metadata": {
    "id": "Gy4uq8wmuU2a"
   },
   "source": [
    "\n",
    "### Networkx\n",
    "\n",
    "Networkx is a Python library people commonly use when dealing with graphs. Please follow the instructions to install the package: https://networkx.org/documentation/stable/install.html. A tutorial for quick-start is also available on their webpage: https://networkx.org/documentation/stable/tutorial.html."
   ]
  },
  {
   "cell_type": "code",
   "execution_count": null,
   "metadata": {
    "id": "tLGk6DutWzSw"
   },
   "outputs": [],
   "source": [
    "import networkx as nx\n",
    "import numpy as np\n",
    "import pandas as pd\n",
    "import random, time\n",
    "import matplotlib.pyplot as plt"
   ]
  },
  {
   "cell_type": "markdown",
   "metadata": {
    "id": "KO-vdx0JalNp"
   },
   "source": [
    "### G(n, p)\n",
    "\n",
    "$G(n, p)$ is a simple random graph model of the Erdős-Rényi graphs. It generates graphs with $n$ nodes by independently sample the existance of each possible edge by probability $p$. Networkx provides a convenient way to generate random graphs using built-in functions for various commonly used graph models. To create an Erdős-Rényi graph, we can use the function nx.erdos_renyi_graph(n, p), where n is the number of nodes and p is the probability of an edge between two nodes. The function returns an nx.Graph object containing the nodes and edges of the generated graph."
   ]
  },
  {
   "cell_type": "code",
   "execution_count": null,
   "metadata": {
    "colab": {
     "base_uri": "https://localhost:8080/",
     "height": 533
    },
    "id": "XXHsGIC9ho1e",
    "outputId": "47904e07-1d46-4d6e-a422-764541041f07"
   },
   "outputs": [],
   "source": [
    "# Example: generate a graph from G(10, 0.3)\n",
    "G_test = nx.erdos_renyi_graph(10, 0.4)\n",
    "# Check how many nodes and edges it has.\n",
    "print(\"the sampled graph contains \", G_test.number_of_nodes(), \"nodes and\", G_test.number_of_edges(), \"edges\")\n",
    "# Plot the graph\n",
    "nx.draw(G_test, with_labels=True)"
   ]
  },
  {
   "cell_type": "markdown",
   "metadata": {
    "id": "vZpuj-9LhoTo"
   },
   "source": [
    "### Triangle counting in Networkx\n",
    "\n",
    "Networkx also provides a function for triangle counting called nx.triangles(G). It takes a nx.Graph object $G$ as input and returns a dictionary of (node id, number of triangles participated) key-value pairs. To calculate the total number of triangles in G, simply sum all the values in the dictionary and divide the result by 3 (since each triangle is counted three times in the dictionary)."
   ]
  },
  {
   "cell_type": "code",
   "execution_count": null,
   "metadata": {
    "colab": {
     "base_uri": "https://localhost:8080/"
    },
    "id": "2u07ckfrim-Y",
    "outputId": "4c872d2a-c339-4063-98d2-d7f2bf106ce5"
   },
   "outputs": [],
   "source": [
    "node_triangle_dict = nx.triangles(G_test)\n",
    "print(\"Total number of triangles in the test graph:\", sum([node_triangle_dict[i] for i in node_triangle_dict])/3)\n",
    "print(\"The triangle participation for each node: \", node_triangle_dict)"
   ]
  },
  {
   "cell_type": "markdown",
   "metadata": {
    "id": "yX-KMzaRhoX6"
   },
   "source": [
    "## Doulion: a randomized algorithm for triangle counting\n",
    "\n",
    "### Algorithm\n",
    "\n",
    "The algorithm works as follows. Given a graph $G$ and a biased coin that shows head with probability $q$, we toss the coin for each edge, keep the edge if we get a head, and delete it otherwise. Count the number of triangles on the new graph $G'$ and multiple by $1/q^3$."
   ]
  },
  {
   "cell_type": "markdown",
   "metadata": {
    "id": "Y3uxkfk-llw8"
   },
   "source": [
    "### Problem 1.\n",
    "\n",
    "Assume the number of triangles in $G$ is $T$, and $T'$ is a random variable that represents the number of triangles in the new graph $G'$. Prove expected value of $T'$ is $q^3\\cdot T$.\n"
   ]
  },
  {
   "cell_type": "markdown",
   "metadata": {
    "id": "XUUE4TTBnLwR"
   },
   "source": [
    "### Problem 2.\n",
    "\n",
    "Implement the algorithm in the cell below"
   ]
  },
  {
   "cell_type": "code",
   "execution_count": null,
   "metadata": {
    "id": "tSpCqGPUnI4a"
   },
   "outputs": [],
   "source": [
    "def doulion(G, q):\n",
    "    '''\n",
    "    G: nx.Graph.\n",
    "    q: float, the probability of getting a head in the coin tosses of doulion.\n",
    "\n",
    "    Return: int, the estimated number of triangles in G.\n",
    "    '''\n"
   ]
  },
  {
   "cell_type": "markdown",
   "metadata": {
    "id": "j8aFTRpKoA14"
   },
   "source": [
    "### Problem 3\n",
    "\n",
    "Now we will test the function on $G(n,p)$ with q values range in $[0.1,0.2,0.4,0.8]$. Since both the graph and the algorithm are randomized, for each $q$ value, you are asked to repeat the following steps 10 times and report the average values of metrics.\n",
    "\n",
    "1. Sample a graph from $G(n,p)$ with $n=1000$ and $p=0.05$.\n",
    "\n",
    "2. Count the real number of triangles $T$ in the sampled graph.\n",
    "\n",
    "3. Run doulion to get an estimated number of triangles $T'$.\n",
    "\n",
    "4. Return the following metrics: running time for both algorithms, and the accuracy of doulion. The accuracy here is defined as $1-{|T-T'|\\over T}$.\n",
    "\n",
    "Plot the average values with standard deviation as error bars for different q values. You are asked to generate two plots with the q values being the x axis. The first one should show the change of running times for both methods v.s. q value, and the second one should show the change of accuracy for doulion."
   ]
  },
  {
   "cell_type": "code",
   "execution_count": null,
   "metadata": {
    "colab": {
     "base_uri": "https://localhost:8080/"
    },
    "id": "1suKN10LLXlQ",
    "outputId": "3787d829-8a04-4309-d6b4-6b333dcf9e84"
   },
   "outputs": [],
   "source": []
  },
  {
   "cell_type": "markdown",
   "metadata": {
    "id": "ffT29510mB9-"
   },
   "source": [
    "### Problem 4\n",
    "\n",
    "Repeat the experiment like previous, but use $p=0.1$ for the random graph generation. What do you observe? Can you give an intuitive explaination?"
   ]
  },
  {
   "cell_type": "code",
   "execution_count": null,
   "metadata": {
    "colab": {
     "base_uri": "https://localhost:8080/"
    },
    "id": "9zX-BEPQnI7G",
    "outputId": "f301e069-9a6a-4621-bf87-d297d10754bc"
   },
   "outputs": [],
   "source": []
  }
 ],
 "metadata": {
  "colab": {
   "provenance": []
  },
  "kernelspec": {
   "display_name": "Python 3 (ipykernel)",
   "language": "python",
   "name": "python3"
  },
  "language_info": {
   "codemirror_mode": {
    "name": "ipython",
    "version": 3
   },
   "file_extension": ".py",
   "mimetype": "text/x-python",
   "name": "python",
   "nbconvert_exporter": "python",
   "pygments_lexer": "ipython3",
   "version": "3.11.0rc2"
  }
 },
 "nbformat": 4,
 "nbformat_minor": 1
}
